{
 "cells": [
  {
   "cell_type": "code",
   "execution_count": 29,
   "metadata": {},
   "outputs": [],
   "source": [
    "%matplotlib inline\n",
    "import matplotlib.pyplot as plt\n",
    "import numpy as np\n",
    "import pandas as pd\n",
    "\n",
    "from sklearn.preprocessing import LabelEncoder, OneHotEncoder\n",
    "from sklearn.linear_model import LogisticRegression\n",
    "from sklearn.linear_model import RandomizedLasso,LassoLarsCV\n",
    "from sklearn.exceptions import ConvergenceWarning \n",
    "from sklearn.model_selection import train_test_split\n",
    "from sklearn.metrics import make_scorer, accuracy_score, confusion_matrix\n",
    "import sklearn.datasets \n",
    "\n",
    "from scipy.stats import skew\n",
    "\n",
    "import seaborn as sns"
   ]
  },
  {
   "cell_type": "code",
   "execution_count": 30,
   "metadata": {},
   "outputs": [],
   "source": [
    "sns.set()\n",
    "%matplotlib inline"
   ]
  },
  {
   "cell_type": "code",
   "execution_count": 31,
   "metadata": {},
   "outputs": [
    {
     "name": "stdout",
     "output_type": "stream",
     "text": [
      "Numero de datos: 4177\n"
     ]
    },
    {
     "data": {
      "text/html": [
       "<div>\n",
       "<style scoped>\n",
       "    .dataframe tbody tr th:only-of-type {\n",
       "        vertical-align: middle;\n",
       "    }\n",
       "\n",
       "    .dataframe tbody tr th {\n",
       "        vertical-align: top;\n",
       "    }\n",
       "\n",
       "    .dataframe thead th {\n",
       "        text-align: right;\n",
       "    }\n",
       "</style>\n",
       "<table border=\"1\" class=\"dataframe\">\n",
       "  <thead>\n",
       "    <tr style=\"text-align: right;\">\n",
       "      <th></th>\n",
       "      <th>Sexo</th>\n",
       "      <th>Largo</th>\n",
       "      <th>Diametro</th>\n",
       "      <th>Altura</th>\n",
       "      <th>Peso completo</th>\n",
       "      <th>Peso descascarado</th>\n",
       "      <th>Peso Vísceras</th>\n",
       "      <th>Peso cascaron</th>\n",
       "      <th>Anillos</th>\n",
       "    </tr>\n",
       "  </thead>\n",
       "  <tbody>\n",
       "    <tr>\n",
       "      <th>0</th>\n",
       "      <td>M</td>\n",
       "      <td>0.455</td>\n",
       "      <td>0.365</td>\n",
       "      <td>0.095</td>\n",
       "      <td>0.5140</td>\n",
       "      <td>0.2245</td>\n",
       "      <td>0.1010</td>\n",
       "      <td>0.150</td>\n",
       "      <td>15</td>\n",
       "    </tr>\n",
       "    <tr>\n",
       "      <th>1</th>\n",
       "      <td>M</td>\n",
       "      <td>0.350</td>\n",
       "      <td>0.265</td>\n",
       "      <td>0.090</td>\n",
       "      <td>0.2255</td>\n",
       "      <td>0.0995</td>\n",
       "      <td>0.0485</td>\n",
       "      <td>0.070</td>\n",
       "      <td>7</td>\n",
       "    </tr>\n",
       "    <tr>\n",
       "      <th>2</th>\n",
       "      <td>F</td>\n",
       "      <td>0.530</td>\n",
       "      <td>0.420</td>\n",
       "      <td>0.135</td>\n",
       "      <td>0.6770</td>\n",
       "      <td>0.2565</td>\n",
       "      <td>0.1415</td>\n",
       "      <td>0.210</td>\n",
       "      <td>9</td>\n",
       "    </tr>\n",
       "    <tr>\n",
       "      <th>3</th>\n",
       "      <td>M</td>\n",
       "      <td>0.440</td>\n",
       "      <td>0.365</td>\n",
       "      <td>0.125</td>\n",
       "      <td>0.5160</td>\n",
       "      <td>0.2155</td>\n",
       "      <td>0.1140</td>\n",
       "      <td>0.155</td>\n",
       "      <td>10</td>\n",
       "    </tr>\n",
       "    <tr>\n",
       "      <th>4</th>\n",
       "      <td>I</td>\n",
       "      <td>0.330</td>\n",
       "      <td>0.255</td>\n",
       "      <td>0.080</td>\n",
       "      <td>0.2050</td>\n",
       "      <td>0.0895</td>\n",
       "      <td>0.0395</td>\n",
       "      <td>0.055</td>\n",
       "      <td>7</td>\n",
       "    </tr>\n",
       "  </tbody>\n",
       "</table>\n",
       "</div>"
      ],
      "text/plain": [
       "  Sexo  Largo  Diametro  Altura  Peso completo  Peso descascarado  \\\n",
       "0    M  0.455     0.365   0.095         0.5140             0.2245   \n",
       "1    M  0.350     0.265   0.090         0.2255             0.0995   \n",
       "2    F  0.530     0.420   0.135         0.6770             0.2565   \n",
       "3    M  0.440     0.365   0.125         0.5160             0.2155   \n",
       "4    I  0.330     0.255   0.080         0.2050             0.0895   \n",
       "\n",
       "   Peso Vísceras  Peso cascaron  Anillos  \n",
       "0         0.1010          0.150       15  \n",
       "1         0.0485          0.070        7  \n",
       "2         0.1415          0.210        9  \n",
       "3         0.1140          0.155       10  \n",
       "4         0.0395          0.055        7  "
      ]
     },
     "execution_count": 31,
     "metadata": {},
     "output_type": "execute_result"
    }
   ],
   "source": [
    "column_names = [\"Sexo\", \"Largo\", \"Diametro\", \"Altura\", \"Peso completo\", \"Peso descascarado\", \"Peso Vísceras\", \"Peso cascaron\", \"Anillos\"]\n",
    "data = pd.read_csv(\"abalone.data\", names=column_names)\n",
    "print(\"Numero de datos: %d\" % len(data))\n",
    "data.head()"
   ]
  },
  {
   "cell_type": "code",
   "execution_count": 32,
   "metadata": {},
   "outputs": [],
   "source": [
    "# Para evitar tener la variable categorica \"Sexo\", transformamos dicha variable en tres boleanos.\n",
    "for label in \"MFI\":\n",
    "    data[label] = data[\"Sexo\"] == label\n",
    "del data[\"Sexo\"]"
   ]
  },
  {
   "cell_type": "code",
   "execution_count": 33,
   "metadata": {},
   "outputs": [
    {
     "data": {
      "text/html": [
       "<div>\n",
       "<style scoped>\n",
       "    .dataframe tbody tr th:only-of-type {\n",
       "        vertical-align: middle;\n",
       "    }\n",
       "\n",
       "    .dataframe tbody tr th {\n",
       "        vertical-align: top;\n",
       "    }\n",
       "\n",
       "    .dataframe thead th {\n",
       "        text-align: right;\n",
       "    }\n",
       "</style>\n",
       "<table border=\"1\" class=\"dataframe\">\n",
       "  <thead>\n",
       "    <tr style=\"text-align: right;\">\n",
       "      <th></th>\n",
       "      <th>Largo</th>\n",
       "      <th>Diametro</th>\n",
       "      <th>Altura</th>\n",
       "      <th>Peso completo</th>\n",
       "      <th>Peso descascarado</th>\n",
       "      <th>Peso Vísceras</th>\n",
       "      <th>Peso cascaron</th>\n",
       "      <th>Anillos</th>\n",
       "      <th>M</th>\n",
       "      <th>F</th>\n",
       "      <th>I</th>\n",
       "    </tr>\n",
       "  </thead>\n",
       "  <tbody>\n",
       "    <tr>\n",
       "      <th>0</th>\n",
       "      <td>0.455</td>\n",
       "      <td>0.365</td>\n",
       "      <td>0.095</td>\n",
       "      <td>0.5140</td>\n",
       "      <td>0.2245</td>\n",
       "      <td>0.1010</td>\n",
       "      <td>0.150</td>\n",
       "      <td>15</td>\n",
       "      <td>True</td>\n",
       "      <td>False</td>\n",
       "      <td>False</td>\n",
       "    </tr>\n",
       "    <tr>\n",
       "      <th>1</th>\n",
       "      <td>0.350</td>\n",
       "      <td>0.265</td>\n",
       "      <td>0.090</td>\n",
       "      <td>0.2255</td>\n",
       "      <td>0.0995</td>\n",
       "      <td>0.0485</td>\n",
       "      <td>0.070</td>\n",
       "      <td>7</td>\n",
       "      <td>True</td>\n",
       "      <td>False</td>\n",
       "      <td>False</td>\n",
       "    </tr>\n",
       "    <tr>\n",
       "      <th>2</th>\n",
       "      <td>0.530</td>\n",
       "      <td>0.420</td>\n",
       "      <td>0.135</td>\n",
       "      <td>0.6770</td>\n",
       "      <td>0.2565</td>\n",
       "      <td>0.1415</td>\n",
       "      <td>0.210</td>\n",
       "      <td>9</td>\n",
       "      <td>False</td>\n",
       "      <td>True</td>\n",
       "      <td>False</td>\n",
       "    </tr>\n",
       "    <tr>\n",
       "      <th>3</th>\n",
       "      <td>0.440</td>\n",
       "      <td>0.365</td>\n",
       "      <td>0.125</td>\n",
       "      <td>0.5160</td>\n",
       "      <td>0.2155</td>\n",
       "      <td>0.1140</td>\n",
       "      <td>0.155</td>\n",
       "      <td>10</td>\n",
       "      <td>True</td>\n",
       "      <td>False</td>\n",
       "      <td>False</td>\n",
       "    </tr>\n",
       "    <tr>\n",
       "      <th>4</th>\n",
       "      <td>0.330</td>\n",
       "      <td>0.255</td>\n",
       "      <td>0.080</td>\n",
       "      <td>0.2050</td>\n",
       "      <td>0.0895</td>\n",
       "      <td>0.0395</td>\n",
       "      <td>0.055</td>\n",
       "      <td>7</td>\n",
       "      <td>False</td>\n",
       "      <td>False</td>\n",
       "      <td>True</td>\n",
       "    </tr>\n",
       "  </tbody>\n",
       "</table>\n",
       "</div>"
      ],
      "text/plain": [
       "   Largo  Diametro  Altura  Peso completo  Peso descascarado  Peso Vísceras  \\\n",
       "0  0.455     0.365   0.095         0.5140             0.2245         0.1010   \n",
       "1  0.350     0.265   0.090         0.2255             0.0995         0.0485   \n",
       "2  0.530     0.420   0.135         0.6770             0.2565         0.1415   \n",
       "3  0.440     0.365   0.125         0.5160             0.2155         0.1140   \n",
       "4  0.330     0.255   0.080         0.2050             0.0895         0.0395   \n",
       "\n",
       "   Peso cascaron  Anillos      M      F      I  \n",
       "0          0.150       15   True  False  False  \n",
       "1          0.070        7   True  False  False  \n",
       "2          0.210        9  False   True  False  \n",
       "3          0.155       10   True  False  False  \n",
       "4          0.055        7  False  False   True  "
      ]
     },
     "execution_count": 33,
     "metadata": {},
     "output_type": "execute_result"
    }
   ],
   "source": [
    "data.head()"
   ]
  },
  {
   "cell_type": "code",
   "execution_count": 34,
   "metadata": {},
   "outputs": [
    {
     "name": "stdout",
     "output_type": "stream",
     "text": [
      "<class 'pandas.core.frame.DataFrame'>\n",
      "RangeIndex: 4177 entries, 0 to 4176\n",
      "Data columns (total 11 columns):\n",
      " #   Column             Non-Null Count  Dtype  \n",
      "---  ------             --------------  -----  \n",
      " 0   Largo              4177 non-null   float64\n",
      " 1   Diametro           4177 non-null   float64\n",
      " 2   Altura             4177 non-null   float64\n",
      " 3   Peso completo      4177 non-null   float64\n",
      " 4   Peso descascarado  4177 non-null   float64\n",
      " 5   Peso Vísceras      4177 non-null   float64\n",
      " 6   Peso cascaron      4177 non-null   float64\n",
      " 7   Anillos            4177 non-null   int64  \n",
      " 8   M                  4177 non-null   bool   \n",
      " 9   F                  4177 non-null   bool   \n",
      " 10  I                  4177 non-null   bool   \n",
      "dtypes: bool(3), float64(7), int64(1)\n",
      "memory usage: 273.4 KB\n"
     ]
    }
   ],
   "source": [
    "data.info()"
   ]
  },
  {
   "cell_type": "code",
   "execution_count": 35,
   "metadata": {},
   "outputs": [
    {
     "data": {
      "text/html": [
       "<div>\n",
       "<style scoped>\n",
       "    .dataframe tbody tr th:only-of-type {\n",
       "        vertical-align: middle;\n",
       "    }\n",
       "\n",
       "    .dataframe tbody tr th {\n",
       "        vertical-align: top;\n",
       "    }\n",
       "\n",
       "    .dataframe thead th {\n",
       "        text-align: right;\n",
       "    }\n",
       "</style>\n",
       "<table border=\"1\" class=\"dataframe\">\n",
       "  <thead>\n",
       "    <tr style=\"text-align: right;\">\n",
       "      <th></th>\n",
       "      <th>Largo</th>\n",
       "      <th>Diametro</th>\n",
       "      <th>Altura</th>\n",
       "      <th>Peso completo</th>\n",
       "      <th>Peso descascarado</th>\n",
       "      <th>Peso Vísceras</th>\n",
       "      <th>Peso cascaron</th>\n",
       "      <th>Anillos</th>\n",
       "    </tr>\n",
       "  </thead>\n",
       "  <tbody>\n",
       "    <tr>\n",
       "      <th>count</th>\n",
       "      <td>4177.000000</td>\n",
       "      <td>4177.000000</td>\n",
       "      <td>4177.000000</td>\n",
       "      <td>4177.000000</td>\n",
       "      <td>4177.000000</td>\n",
       "      <td>4177.000000</td>\n",
       "      <td>4177.000000</td>\n",
       "      <td>4177.000000</td>\n",
       "    </tr>\n",
       "    <tr>\n",
       "      <th>mean</th>\n",
       "      <td>0.523992</td>\n",
       "      <td>0.407881</td>\n",
       "      <td>0.139516</td>\n",
       "      <td>0.828742</td>\n",
       "      <td>0.359367</td>\n",
       "      <td>0.180594</td>\n",
       "      <td>0.238831</td>\n",
       "      <td>9.933684</td>\n",
       "    </tr>\n",
       "    <tr>\n",
       "      <th>std</th>\n",
       "      <td>0.120093</td>\n",
       "      <td>0.099240</td>\n",
       "      <td>0.041827</td>\n",
       "      <td>0.490389</td>\n",
       "      <td>0.221963</td>\n",
       "      <td>0.109614</td>\n",
       "      <td>0.139203</td>\n",
       "      <td>3.224169</td>\n",
       "    </tr>\n",
       "    <tr>\n",
       "      <th>min</th>\n",
       "      <td>0.075000</td>\n",
       "      <td>0.055000</td>\n",
       "      <td>0.000000</td>\n",
       "      <td>0.002000</td>\n",
       "      <td>0.001000</td>\n",
       "      <td>0.000500</td>\n",
       "      <td>0.001500</td>\n",
       "      <td>1.000000</td>\n",
       "    </tr>\n",
       "    <tr>\n",
       "      <th>25%</th>\n",
       "      <td>0.450000</td>\n",
       "      <td>0.350000</td>\n",
       "      <td>0.115000</td>\n",
       "      <td>0.441500</td>\n",
       "      <td>0.186000</td>\n",
       "      <td>0.093500</td>\n",
       "      <td>0.130000</td>\n",
       "      <td>8.000000</td>\n",
       "    </tr>\n",
       "    <tr>\n",
       "      <th>50%</th>\n",
       "      <td>0.545000</td>\n",
       "      <td>0.425000</td>\n",
       "      <td>0.140000</td>\n",
       "      <td>0.799500</td>\n",
       "      <td>0.336000</td>\n",
       "      <td>0.171000</td>\n",
       "      <td>0.234000</td>\n",
       "      <td>9.000000</td>\n",
       "    </tr>\n",
       "    <tr>\n",
       "      <th>75%</th>\n",
       "      <td>0.615000</td>\n",
       "      <td>0.480000</td>\n",
       "      <td>0.165000</td>\n",
       "      <td>1.153000</td>\n",
       "      <td>0.502000</td>\n",
       "      <td>0.253000</td>\n",
       "      <td>0.329000</td>\n",
       "      <td>11.000000</td>\n",
       "    </tr>\n",
       "    <tr>\n",
       "      <th>max</th>\n",
       "      <td>0.815000</td>\n",
       "      <td>0.650000</td>\n",
       "      <td>1.130000</td>\n",
       "      <td>2.825500</td>\n",
       "      <td>1.488000</td>\n",
       "      <td>0.760000</td>\n",
       "      <td>1.005000</td>\n",
       "      <td>29.000000</td>\n",
       "    </tr>\n",
       "  </tbody>\n",
       "</table>\n",
       "</div>"
      ],
      "text/plain": [
       "             Largo     Diametro       Altura  Peso completo  \\\n",
       "count  4177.000000  4177.000000  4177.000000    4177.000000   \n",
       "mean      0.523992     0.407881     0.139516       0.828742   \n",
       "std       0.120093     0.099240     0.041827       0.490389   \n",
       "min       0.075000     0.055000     0.000000       0.002000   \n",
       "25%       0.450000     0.350000     0.115000       0.441500   \n",
       "50%       0.545000     0.425000     0.140000       0.799500   \n",
       "75%       0.615000     0.480000     0.165000       1.153000   \n",
       "max       0.815000     0.650000     1.130000       2.825500   \n",
       "\n",
       "       Peso descascarado  Peso Vísceras  Peso cascaron      Anillos  \n",
       "count        4177.000000    4177.000000    4177.000000  4177.000000  \n",
       "mean            0.359367       0.180594       0.238831     9.933684  \n",
       "std             0.221963       0.109614       0.139203     3.224169  \n",
       "min             0.001000       0.000500       0.001500     1.000000  \n",
       "25%             0.186000       0.093500       0.130000     8.000000  \n",
       "50%             0.336000       0.171000       0.234000     9.000000  \n",
       "75%             0.502000       0.253000       0.329000    11.000000  \n",
       "max             1.488000       0.760000       1.005000    29.000000  "
      ]
     },
     "execution_count": 35,
     "metadata": {},
     "output_type": "execute_result"
    }
   ],
   "source": [
    "data.describe()"
   ]
  },
  {
   "cell_type": "markdown",
   "metadata": {},
   "source": [
    "De esto podemos saber:\n",
    "\n",
    "1)Ninguna variable tiene minimo igual a cero, expecto altura.\n",
    "2)No todas se comportan de forma Normal(Mean = Median = Mode) pero se acercan a comportamiento Normal\n",
    "3)Todas numericas, excepto sexo\n",
    "4)Distinta escala para cada una"
   ]
  },
  {
   "cell_type": "code",
   "execution_count": 36,
   "metadata": {},
   "outputs": [
    {
     "data": {
      "text/plain": [
       "array([[<matplotlib.axes._subplots.AxesSubplot object at 0x7fe9c487f7d0>,\n",
       "        <matplotlib.axes._subplots.AxesSubplot object at 0x7fe9c48bf810>,\n",
       "        <matplotlib.axes._subplots.AxesSubplot object at 0x7fe9c388bc10>,\n",
       "        <matplotlib.axes._subplots.AxesSubplot object at 0x7fe9c36fdf90>],\n",
       "       [<matplotlib.axes._subplots.AxesSubplot object at 0x7fe9c372fc50>,\n",
       "        <matplotlib.axes._subplots.AxesSubplot object at 0x7fe9c3769fd0>,\n",
       "        <matplotlib.axes._subplots.AxesSubplot object at 0x7fe9c379cc90>,\n",
       "        <matplotlib.axes._subplots.AxesSubplot object at 0x7fe9c37d84d0>]],\n",
       "      dtype=object)"
      ]
     },
     "execution_count": 36,
     "metadata": {},
     "output_type": "execute_result"
    },
    {
     "data": {
      "image/png": "[encoded data removed]",
      "text/plain": [
       "<Figure size 1440x1440 with 8 Axes>"
      ]
     },
     "metadata": {
      "needs_background": "light"
     },
     "output_type": "display_data"
    }
   ],
   "source": [
    "df = pd.read_csv(\"abalone.data\", names=column_names)\n",
    "df.hist(figsize=(20,20), grid = True, layout = (2,4), bins = 30)\n"
   ]
  },
  {
   "cell_type": "code",
   "execution_count": null,
   "metadata": {},
   "outputs": [],
   "source": []
  },
  {
   "cell_type": "code",
   "execution_count": 37,
   "metadata": {},
   "outputs": [
    {
     "data": {
      "text/plain": [
       "<matplotlib.axes._subplots.AxesSubplot at 0x7fe9c3bed810>"
      ]
     },
     "execution_count": 37,
     "metadata": {},
     "output_type": "execute_result"
    },
    {
     "data": {
      "image/png": "[encoded data removed]",
      "text/plain": [
       "<Figure size 432x288 with 1 Axes>"
      ]
     },
     "metadata": {
      "needs_background": "light"
     },
     "output_type": "display_data"
    }
   ],
   "source": [
    "sns.countplot(x='Sexo', data = data_2)"
   ]
  },
  {
   "cell_type": "code",
   "execution_count": 38,
   "metadata": {},
   "outputs": [
    {
     "name": "stdout",
     "output_type": "stream",
     "text": [
      "\n",
      "Sexo en Porcentaje\n",
      "M    0.365813\n",
      "I    0.321283\n",
      "F    0.312904\n",
      "Name: Sexo, dtype: float64\n",
      "\n",
      "Sexo en Numeros\n",
      "M    1528\n",
      "I    1342\n",
      "F    1307\n",
      "Name: Sexo, dtype: int64\n"
     ]
    }
   ],
   "source": [
    "'''Sexo'''\n",
    "data_2 = pd.read_csv(\"abalone.data\", names=column_names)\n",
    "\n",
    "print(\"\\nSexo en Porcentaje\")\n",
    "print(data_2.Sexo.value_counts(normalize = True))\n",
    "print(\"\\nSexo en Numeros\")\n",
    "print(data_2.Sexo.value_counts())"
   ]
  },
  {
   "cell_type": "code",
   "execution_count": null,
   "metadata": {},
   "outputs": [],
   "source": [
    "\n",
    "'''Sex and Age Visulization'''\n",
    "data_2['Edad'] = data_2['Anillos'] + 1.5\n",
    "plt.figure(figsize = (20,7))\n",
    "sns.swarmplot(x = 'Sexo', y = 'Edad', data = data_2, hue = 'Sexo')\n",
    "sns.violinplot(x = 'Sexo', y = 'Edad', data = data_2)"
   ]
  },
  {
   "cell_type": "code",
   "execution_count": null,
   "metadata": {},
   "outputs": [],
   "source": []
  }
 ],
 "metadata": {
  "kernelspec": {
   "display_name": "Python 3",
   "language": "python",
   "name": "python3"
  },
  "language_info": {
   "codemirror_mode": {
    "name": "ipython",
    "version": 3
   },
   "file_extension": ".py",
   "mimetype": "text/x-python",
   "name": "python",
   "nbconvert_exporter": "python",
   "pygments_lexer": "ipython3",
   "version": "3.7.6"
  }
 },
 "nbformat": 4,
 "nbformat_minor": 4
}
